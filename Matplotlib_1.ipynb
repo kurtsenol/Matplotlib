{
 "cells": [
  {
   "cell_type": "markdown",
   "metadata": {},
   "source": [
    "## Pandas and Matplotlib\n",
    "\n",
    "In this project we make some visualizations with using Matplotlib. The dataset contains tweets about the presidential candidates."
   ]
  },
  {
   "cell_type": "code",
   "execution_count": 2,
   "metadata": {},
   "outputs": [
    {
     "data": {
      "text/html": [
       "<div>\n",
       "<style scoped>\n",
       "    .dataframe tbody tr th:only-of-type {\n",
       "        vertical-align: middle;\n",
       "    }\n",
       "\n",
       "    .dataframe tbody tr th {\n",
       "        vertical-align: top;\n",
       "    }\n",
       "\n",
       "    .dataframe thead th {\n",
       "        text-align: right;\n",
       "    }\n",
       "</style>\n",
       "<table border=\"1\" class=\"dataframe\">\n",
       "  <thead>\n",
       "    <tr style=\"text-align: right;\">\n",
       "      <th></th>\n",
       "      <th>id</th>\n",
       "      <th>id_str</th>\n",
       "      <th>user_location</th>\n",
       "      <th>user_bg_color</th>\n",
       "      <th>retweet_count</th>\n",
       "      <th>user_name</th>\n",
       "      <th>polarity</th>\n",
       "      <th>created</th>\n",
       "      <th>geo</th>\n",
       "      <th>user_description</th>\n",
       "      <th>user_created</th>\n",
       "      <th>user_followers</th>\n",
       "      <th>coordinates</th>\n",
       "      <th>subjectivity</th>\n",
       "      <th>text</th>\n",
       "    </tr>\n",
       "  </thead>\n",
       "  <tbody>\n",
       "    <tr>\n",
       "      <th>0</th>\n",
       "      <td>1</td>\n",
       "      <td>729828033092149248</td>\n",
       "      <td>Wheeling WV</td>\n",
       "      <td>022330</td>\n",
       "      <td>0</td>\n",
       "      <td>Jaybo26003</td>\n",
       "      <td>0.00</td>\n",
       "      <td>2016-05-10T00:18:57</td>\n",
       "      <td>NaN</td>\n",
       "      <td>NaN</td>\n",
       "      <td>2011-11-17T02:45:42</td>\n",
       "      <td>39</td>\n",
       "      <td>NaN</td>\n",
       "      <td>0.0</td>\n",
       "      <td>Make a difference vote! WV Bernie Sanders Coul...</td>\n",
       "    </tr>\n",
       "    <tr>\n",
       "      <th>1</th>\n",
       "      <td>2</td>\n",
       "      <td>729828033092161537</td>\n",
       "      <td>NaN</td>\n",
       "      <td>C0DEED</td>\n",
       "      <td>0</td>\n",
       "      <td>brittttany_ns</td>\n",
       "      <td>0.15</td>\n",
       "      <td>2016-05-10T00:18:57</td>\n",
       "      <td>NaN</td>\n",
       "      <td>18 // PSJAN</td>\n",
       "      <td>2012-12-24T17:33:12</td>\n",
       "      <td>1175</td>\n",
       "      <td>NaN</td>\n",
       "      <td>0.1</td>\n",
       "      <td>RT @HlPHOPNEWS: T.I. says if Donald Trump wins...</td>\n",
       "    </tr>\n",
       "    <tr>\n",
       "      <th>2</th>\n",
       "      <td>3</td>\n",
       "      <td>729828033566224384</td>\n",
       "      <td>NaN</td>\n",
       "      <td>C0DEED</td>\n",
       "      <td>0</td>\n",
       "      <td>JeffriesLori</td>\n",
       "      <td>0.00</td>\n",
       "      <td>2016-05-10T00:18:57</td>\n",
       "      <td>NaN</td>\n",
       "      <td>NaN</td>\n",
       "      <td>2012-10-11T14:29:59</td>\n",
       "      <td>42</td>\n",
       "      <td>NaN</td>\n",
       "      <td>0.0</td>\n",
       "      <td>You have no one to blame but yourselves if Tru...</td>\n",
       "    </tr>\n",
       "    <tr>\n",
       "      <th>3</th>\n",
       "      <td>4</td>\n",
       "      <td>729828033893302272</td>\n",
       "      <td>global</td>\n",
       "      <td>C0DEED</td>\n",
       "      <td>0</td>\n",
       "      <td>WhorunsGOVs</td>\n",
       "      <td>0.00</td>\n",
       "      <td>2016-05-10T00:18:57</td>\n",
       "      <td>NaN</td>\n",
       "      <td>Get Latest Global Political news as they unfold</td>\n",
       "      <td>2014-02-16T07:34:24</td>\n",
       "      <td>290</td>\n",
       "      <td>NaN</td>\n",
       "      <td>0.0</td>\n",
       "      <td>'Ruin the rest of their lives': Donald Trump c...</td>\n",
       "    </tr>\n",
       "    <tr>\n",
       "      <th>4</th>\n",
       "      <td>5</td>\n",
       "      <td>729828034178482177</td>\n",
       "      <td>California, USA</td>\n",
       "      <td>131516</td>\n",
       "      <td>0</td>\n",
       "      <td>BJCG0830</td>\n",
       "      <td>0.00</td>\n",
       "      <td>2016-05-10T00:18:57</td>\n",
       "      <td>NaN</td>\n",
       "      <td>Queer Latino invoking his 1st amendment privil...</td>\n",
       "      <td>2009-03-21T01:43:26</td>\n",
       "      <td>354</td>\n",
       "      <td>NaN</td>\n",
       "      <td>0.0</td>\n",
       "      <td>RT @elianayjohnson: Per source, GOP megadonor ...</td>\n",
       "    </tr>\n",
       "  </tbody>\n",
       "</table>\n",
       "</div>"
      ],
      "text/plain": [
       "   id              id_str    user_location user_bg_color  retweet_count  \\\n",
       "0   1  729828033092149248      Wheeling WV        022330              0   \n",
       "1   2  729828033092161537              NaN        C0DEED              0   \n",
       "2   3  729828033566224384              NaN        C0DEED              0   \n",
       "3   4  729828033893302272           global        C0DEED              0   \n",
       "4   5  729828034178482177  California, USA        131516              0   \n",
       "\n",
       "       user_name  polarity              created  geo  \\\n",
       "0     Jaybo26003      0.00  2016-05-10T00:18:57  NaN   \n",
       "1  brittttany_ns      0.15  2016-05-10T00:18:57  NaN   \n",
       "2   JeffriesLori      0.00  2016-05-10T00:18:57  NaN   \n",
       "3    WhorunsGOVs      0.00  2016-05-10T00:18:57  NaN   \n",
       "4       BJCG0830      0.00  2016-05-10T00:18:57  NaN   \n",
       "\n",
       "                                    user_description         user_created  \\\n",
       "0                                                NaN  2011-11-17T02:45:42   \n",
       "1                                        18 // PSJAN  2012-12-24T17:33:12   \n",
       "2                                                NaN  2012-10-11T14:29:59   \n",
       "3    Get Latest Global Political news as they unfold  2014-02-16T07:34:24   \n",
       "4  Queer Latino invoking his 1st amendment privil...  2009-03-21T01:43:26   \n",
       "\n",
       "   user_followers coordinates  subjectivity  \\\n",
       "0              39         NaN           0.0   \n",
       "1            1175         NaN           0.1   \n",
       "2              42         NaN           0.0   \n",
       "3             290         NaN           0.0   \n",
       "4             354         NaN           0.0   \n",
       "\n",
       "                                                text  \n",
       "0  Make a difference vote! WV Bernie Sanders Coul...  \n",
       "1  RT @HlPHOPNEWS: T.I. says if Donald Trump wins...  \n",
       "2  You have no one to blame but yourselves if Tru...  \n",
       "3  'Ruin the rest of their lives': Donald Trump c...  \n",
       "4  RT @elianayjohnson: Per source, GOP megadonor ...  "
      ]
     },
     "execution_count": 2,
     "metadata": {},
     "output_type": "execute_result"
    }
   ],
   "source": [
    "import pandas as pd\n",
    "\n",
    "tweets = pd.read_csv(\"Data/tweets.csv\")\n",
    "tweets.head()"
   ]
  },
  {
   "cell_type": "code",
   "execution_count": 3,
   "metadata": {},
   "outputs": [],
   "source": [
    "# create a function finding out which candidate names occur in a tweet text.\n",
    "\n",
    "def get_candidate(row):\n",
    "    candidates = []\n",
    "    text = row[\"text\"].lower()\n",
    "    \n",
    "    if \"clinton\" in text or \"hillary\" in text:\n",
    "        candidates.append(\"clinton\")\n",
    "    \n",
    "    if \"trump\" in text or \"donald\" in text:\n",
    "        candidates.append(\"trump\")\n",
    "        \n",
    "    if \"sanders\" in text or \"bernie\" in text:\n",
    "        candidates.append(\"sanders\")\n",
    "    \n",
    "    return \",\".join(candidates)"
   ]
  },
  {
   "cell_type": "code",
   "execution_count": 4,
   "metadata": {},
   "outputs": [
    {
     "data": {
      "text/html": [
       "<div>\n",
       "<style scoped>\n",
       "    .dataframe tbody tr th:only-of-type {\n",
       "        vertical-align: middle;\n",
       "    }\n",
       "\n",
       "    .dataframe tbody tr th {\n",
       "        vertical-align: top;\n",
       "    }\n",
       "\n",
       "    .dataframe thead th {\n",
       "        text-align: right;\n",
       "    }\n",
       "</style>\n",
       "<table border=\"1\" class=\"dataframe\">\n",
       "  <thead>\n",
       "    <tr style=\"text-align: right;\">\n",
       "      <th></th>\n",
       "      <th>id</th>\n",
       "      <th>id_str</th>\n",
       "      <th>user_location</th>\n",
       "      <th>user_bg_color</th>\n",
       "      <th>retweet_count</th>\n",
       "      <th>user_name</th>\n",
       "      <th>polarity</th>\n",
       "      <th>created</th>\n",
       "      <th>geo</th>\n",
       "      <th>user_description</th>\n",
       "      <th>user_created</th>\n",
       "      <th>user_followers</th>\n",
       "      <th>coordinates</th>\n",
       "      <th>subjectivity</th>\n",
       "      <th>text</th>\n",
       "      <th>candidate</th>\n",
       "    </tr>\n",
       "  </thead>\n",
       "  <tbody>\n",
       "    <tr>\n",
       "      <th>0</th>\n",
       "      <td>1</td>\n",
       "      <td>729828033092149248</td>\n",
       "      <td>Wheeling WV</td>\n",
       "      <td>022330</td>\n",
       "      <td>0</td>\n",
       "      <td>Jaybo26003</td>\n",
       "      <td>0.00</td>\n",
       "      <td>2016-05-10T00:18:57</td>\n",
       "      <td>NaN</td>\n",
       "      <td>NaN</td>\n",
       "      <td>2011-11-17T02:45:42</td>\n",
       "      <td>39</td>\n",
       "      <td>NaN</td>\n",
       "      <td>0.0</td>\n",
       "      <td>Make a difference vote! WV Bernie Sanders Coul...</td>\n",
       "      <td>clinton,sanders</td>\n",
       "    </tr>\n",
       "    <tr>\n",
       "      <th>1</th>\n",
       "      <td>2</td>\n",
       "      <td>729828033092161537</td>\n",
       "      <td>NaN</td>\n",
       "      <td>C0DEED</td>\n",
       "      <td>0</td>\n",
       "      <td>brittttany_ns</td>\n",
       "      <td>0.15</td>\n",
       "      <td>2016-05-10T00:18:57</td>\n",
       "      <td>NaN</td>\n",
       "      <td>18 // PSJAN</td>\n",
       "      <td>2012-12-24T17:33:12</td>\n",
       "      <td>1175</td>\n",
       "      <td>NaN</td>\n",
       "      <td>0.1</td>\n",
       "      <td>RT @HlPHOPNEWS: T.I. says if Donald Trump wins...</td>\n",
       "      <td>trump</td>\n",
       "    </tr>\n",
       "    <tr>\n",
       "      <th>2</th>\n",
       "      <td>3</td>\n",
       "      <td>729828033566224384</td>\n",
       "      <td>NaN</td>\n",
       "      <td>C0DEED</td>\n",
       "      <td>0</td>\n",
       "      <td>JeffriesLori</td>\n",
       "      <td>0.00</td>\n",
       "      <td>2016-05-10T00:18:57</td>\n",
       "      <td>NaN</td>\n",
       "      <td>NaN</td>\n",
       "      <td>2012-10-11T14:29:59</td>\n",
       "      <td>42</td>\n",
       "      <td>NaN</td>\n",
       "      <td>0.0</td>\n",
       "      <td>You have no one to blame but yourselves if Tru...</td>\n",
       "      <td>trump</td>\n",
       "    </tr>\n",
       "    <tr>\n",
       "      <th>3</th>\n",
       "      <td>4</td>\n",
       "      <td>729828033893302272</td>\n",
       "      <td>global</td>\n",
       "      <td>C0DEED</td>\n",
       "      <td>0</td>\n",
       "      <td>WhorunsGOVs</td>\n",
       "      <td>0.00</td>\n",
       "      <td>2016-05-10T00:18:57</td>\n",
       "      <td>NaN</td>\n",
       "      <td>Get Latest Global Political news as they unfold</td>\n",
       "      <td>2014-02-16T07:34:24</td>\n",
       "      <td>290</td>\n",
       "      <td>NaN</td>\n",
       "      <td>0.0</td>\n",
       "      <td>'Ruin the rest of their lives': Donald Trump c...</td>\n",
       "      <td>trump</td>\n",
       "    </tr>\n",
       "    <tr>\n",
       "      <th>4</th>\n",
       "      <td>5</td>\n",
       "      <td>729828034178482177</td>\n",
       "      <td>California, USA</td>\n",
       "      <td>131516</td>\n",
       "      <td>0</td>\n",
       "      <td>BJCG0830</td>\n",
       "      <td>0.00</td>\n",
       "      <td>2016-05-10T00:18:57</td>\n",
       "      <td>NaN</td>\n",
       "      <td>Queer Latino invoking his 1st amendment privil...</td>\n",
       "      <td>2009-03-21T01:43:26</td>\n",
       "      <td>354</td>\n",
       "      <td>NaN</td>\n",
       "      <td>0.0</td>\n",
       "      <td>RT @elianayjohnson: Per source, GOP megadonor ...</td>\n",
       "      <td>trump</td>\n",
       "    </tr>\n",
       "  </tbody>\n",
       "</table>\n",
       "</div>"
      ],
      "text/plain": [
       "   id              id_str    user_location user_bg_color  retweet_count  \\\n",
       "0   1  729828033092149248      Wheeling WV        022330              0   \n",
       "1   2  729828033092161537              NaN        C0DEED              0   \n",
       "2   3  729828033566224384              NaN        C0DEED              0   \n",
       "3   4  729828033893302272           global        C0DEED              0   \n",
       "4   5  729828034178482177  California, USA        131516              0   \n",
       "\n",
       "       user_name  polarity              created  geo  \\\n",
       "0     Jaybo26003      0.00  2016-05-10T00:18:57  NaN   \n",
       "1  brittttany_ns      0.15  2016-05-10T00:18:57  NaN   \n",
       "2   JeffriesLori      0.00  2016-05-10T00:18:57  NaN   \n",
       "3    WhorunsGOVs      0.00  2016-05-10T00:18:57  NaN   \n",
       "4       BJCG0830      0.00  2016-05-10T00:18:57  NaN   \n",
       "\n",
       "                                    user_description         user_created  \\\n",
       "0                                                NaN  2011-11-17T02:45:42   \n",
       "1                                        18 // PSJAN  2012-12-24T17:33:12   \n",
       "2                                                NaN  2012-10-11T14:29:59   \n",
       "3    Get Latest Global Political news as they unfold  2014-02-16T07:34:24   \n",
       "4  Queer Latino invoking his 1st amendment privil...  2009-03-21T01:43:26   \n",
       "\n",
       "   user_followers coordinates  subjectivity  \\\n",
       "0              39         NaN           0.0   \n",
       "1            1175         NaN           0.1   \n",
       "2              42         NaN           0.0   \n",
       "3             290         NaN           0.0   \n",
       "4             354         NaN           0.0   \n",
       "\n",
       "                                                text        candidate  \n",
       "0  Make a difference vote! WV Bernie Sanders Coul...  clinton,sanders  \n",
       "1  RT @HlPHOPNEWS: T.I. says if Donald Trump wins...            trump  \n",
       "2  You have no one to blame but yourselves if Tru...            trump  \n",
       "3  'Ruin the rest of their lives': Donald Trump c...            trump  \n",
       "4  RT @elianayjohnson: Per source, GOP megadonor ...            trump  "
      ]
     },
     "execution_count": 4,
     "metadata": {},
     "output_type": "execute_result"
    }
   ],
   "source": [
    "# generate a new column shows which candidates the tweet mentions\n",
    "\n",
    "tweets[\"candidate\"] = tweets.apply(get_candidate, axis=1)\n",
    "tweets.head()"
   ]
  },
  {
   "cell_type": "markdown",
   "metadata": {},
   "source": [
    "### Making a bar plot\n",
    "\n",
    "We will make a bar plot of how many tweets mentioned each candidate.\n",
    "We’ll pass in a list of numbers from 0 to the number of unique values in the candidate column as the x-axis input, and the counts as the y-axis input. plt.bar() method automatically creates a Figure object and an Axes object."
   ]
  },
  {
   "cell_type": "code",
   "execution_count": 5,
   "metadata": {},
   "outputs": [],
   "source": [
    "import matplotlib.pyplot as plt\n",
    "import numpy as np"
   ]
  },
  {
   "cell_type": "code",
   "execution_count": 6,
   "metadata": {},
   "outputs": [
    {
     "data": {
      "image/png": "[encoded data removed]",
      "text/plain": [
       "<Figure size 432x288 with 1 Axes>"
      ]
     },
     "metadata": {
      "needs_background": "light"
     },
     "output_type": "display_data"
    },
    {
     "name": "stdout",
     "output_type": "stream",
     "text": [
      "trump                    119998\n",
      "clinton,trump             30521\n",
      "                          25429\n",
      "sanders                   25351\n",
      "clinton                   22746\n",
      "clinton,sanders            6044\n",
      "clinton,trump,sanders      4219\n",
      "trump,sanders              3172\n",
      "Name: candidate, dtype: int64\n"
     ]
    }
   ],
   "source": [
    "counts = tweets['candidate'].value_counts()\n",
    "plt.bar(range(len(counts)), counts)\n",
    "plt.show()\n",
    "print(counts)"
   ]
  },
  {
   "cell_type": "markdown",
   "metadata": {},
   "source": [
    "### widely used methods in the pyplot module\n",
    "\n",
    "* plt.bar — creates a bar chart.\n",
    "* plt.boxplot — makes a box and whisker plot.\n",
    "* plt.hist — makes a histogram.\n",
    "* plt.plot — creates a line plot.\n",
    "* plt.scatter — makes a scatter plot."
   ]
  },
  {
   "cell_type": "markdown",
   "metadata": {},
   "source": [
    "### Customizing plots\n",
    "\n",
    "We will search for the time that a tweet sent and the time that spesific user account created.\n",
    "More user accounts created recently may imply manipulation. Let's make a histogram."
   ]
  },
  {
   "cell_type": "code",
   "execution_count": 7,
   "metadata": {},
   "outputs": [
    {
     "data": {
      "image/png": "[encoded data removed]",
      "text/plain": [
       "<Figure size 432x288 with 1 Axes>"
      ]
     },
     "metadata": {
      "needs_background": "light"
     },
     "output_type": "display_data"
    }
   ],
   "source": [
    "from datetime import datetime\n",
    "\n",
    "tweets[\"created\"] = pd.to_datetime(tweets[\"created\"])\n",
    "tweets[\"user_created\"] = pd.to_datetime(tweets[\"user_created\"])\n",
    "\n",
    "tweets[\"user_age\"] = tweets[\"user_created\"].apply(lambda x: (datetime.now()-x).total_seconds() / 3600 / 24 / 365 )\n",
    "plt.hist(tweets[\"user_age\"])\n",
    "plt.show()"
   ]
  },
  {
   "cell_type": "markdown",
   "metadata": {},
   "source": [
    "### Adding Labels\n",
    "\n",
    "A title and labels can be added to the plot. The methods are:\n",
    "    \n",
    "* plt.title — adds a title to the plot.\n",
    "     \n",
    "* plt.xlabel — adds an x-axis label.\n",
    "    \n",
    "* plt.ylabel — adds a y-axis label.\n",
    "    "
   ]
  },
  {
   "cell_type": "code",
   "execution_count": 8,
   "metadata": {},
   "outputs": [
    {
     "data": {
      "image/png": "[encoded data removed]",
      "text/plain": [
       "<Figure size 432x288 with 1 Axes>"
      ]
     },
     "metadata": {
      "needs_background": "light"
     },
     "output_type": "display_data"
    }
   ],
   "source": [
    "# We will make the same histogram above with labels. \n",
    "\n",
    "plt.hist(tweets[\"user_age\"])\n",
    "plt.title(\"Tweets mentioning candidates\")\n",
    "plt.xlabel(\"twitter account age in years\")\n",
    "plt.ylabel(\"# of tweets\")\n",
    "plt.show()"
   ]
  },
  {
   "cell_type": "code",
   "execution_count": 9,
   "metadata": {},
   "outputs": [
    {
     "name": "stdout",
     "output_type": "stream",
     "text": [
      "0          8.223142\n",
      "1          7.117344\n",
      "2          7.320432\n",
      "3          5.970538\n",
      "4         10.883534\n",
      "            ...    \n",
      "237475     6.129012\n",
      "237476     4.402507\n",
      "237477     8.831440\n",
      "237478     8.050429\n",
      "237479    10.237574\n",
      "Name: user_age, Length: 237480, dtype: float64\n"
     ]
    }
   ],
   "source": [
    "print(tweets[\"user_age\"])"
   ]
  },
  {
   "cell_type": "markdown",
   "metadata": {},
   "source": [
    "### Stacked histogram\n",
    "\n",
    "A stacked histogram can break it down by candidate. \n",
    "We need pandas series for each candidate to make a stacked histogram.   "
   ]
  },
  {
   "cell_type": "code",
   "execution_count": 10,
   "metadata": {},
   "outputs": [
    {
     "data": {
      "image/png": "[encoded data removed]",
      "text/plain": [
       "<Figure size 432x288 with 1 Axes>"
      ]
     },
     "metadata": {
      "needs_background": "light"
     },
     "output_type": "display_data"
    }
   ],
   "source": [
    "cl_tweets = tweets[\"user_age\"][tweets[\"candidate\"] == \"clinton\"]\n",
    "sa_tweets = tweets[\"user_age\"][tweets[\"candidate\"] == \"sanders\"]\n",
    "tr_tweets = tweets[\"user_age\"][tweets[\"candidate\"] == \"trump\"]\n",
    "\n",
    "plt.hist([cl_tweets,\n",
    "          sa_tweets,\n",
    "          tr_tweets],\n",
    "        stacked=True,\n",
    "        label=[\"clinton\",\"sanders\",\"trump\"])\n",
    "\n",
    "plt.legend() # draw a legend in the top right corner.\n",
    "\n",
    "plt.title(\"Tweets mentioning candidates\")\n",
    "plt.xlabel(\"twitter account age in years\")\n",
    "plt.ylabel(\"# of tweets\")\n",
    "plt.show()"
   ]
  },
  {
   "cell_type": "markdown",
   "metadata": {},
   "source": [
    "### Annotations \n",
    "\n",
    "plt.annotate() method add annotations to the plot. Here are the parameters for the method:\n",
    "\n",
    "* xy — determines the x and y coordinates where the arrow should start.\n",
    "* xytext — determines the x and y coordinates where the text should start.\n",
    "* arrowprops — specify options about the arrow, such as color.\n",
    "    \n",
    "    "
   ]
  },
  {
   "cell_type": "code",
   "execution_count": 11,
   "metadata": {},
   "outputs": [
    {
     "data": {
      "image/png": "[encoded data removed]",
      "text/plain": [
       "<Figure size 432x288 with 1 Axes>"
      ]
     },
     "metadata": {
      "needs_background": "light"
     },
     "output_type": "display_data"
    }
   ],
   "source": [
    "plt.hist([cl_tweets,\n",
    "          sa_tweets,\n",
    "          tr_tweets],\n",
    "        stacked=True,\n",
    "        label=[\"clinton\",\"sanders\",\"trump\"])\n",
    "\n",
    "plt.legend() # draw a legend in the top right corner.\n",
    "\n",
    "plt.title(\"Tweets mentioning candidates\")\n",
    "plt.xlabel(\"twitter account age in years\")\n",
    "plt.ylabel(\"# of tweets\")\n",
    "\n",
    "plt.annotate(\"More tweets by Trump\", xy=(5,35000), xytext=(6,35000),\n",
    "            arrowprops=dict(facecolor='black'))\n",
    "\n",
    "plt.show()"
   ]
  },
  {
   "cell_type": "markdown",
   "metadata": {},
   "source": [
    "### Multiple Subplots\n",
    "\n",
    "plt.bar and plt.hist methods automatically create a Figure object and an Axes object. However, we can create these objects, as well. We can do this when we make multiple plots. For example, plt.subplots(nrows=2, ncols=2) method generates 2x2 grid of Axes objects.\n",
    "\n",
    "We’ll generate 4 plots that show the amount of the colors red and blue in the Twitter background colors of users tweeting about candidates."
   ]
  },
  {
   "cell_type": "code",
   "execution_count": 12,
   "metadata": {},
   "outputs": [],
   "source": [
    "import matplotlib.colors as colors\n",
    "\n",
    "# extracting how much red and blue is in tweeters' profiles.\n",
    "tweets[\"red\"] = tweets[\"user_bg_color\"].apply(lambda x: colors.hex2color('#{0}'.format(x))[0])\n",
    "tweets[\"blue\"] = tweets[\"user_bg_color\"].apply(lambda x: colors.hex2color('#{0}'.format(x))[2])"
   ]
  },
  {
   "cell_type": "code",
   "execution_count": 13,
   "metadata": {},
   "outputs": [
    {
     "name": "stdout",
     "output_type": "stream",
     "text": [
      "Figure(432x288)\n",
      "<class 'numpy.ndarray'>\n"
     ]
    },
    {
     "data": {
      "image/png": "[encoded data removed]",
      "text/plain": [
       "<Figure size 432x288 with 4 Axes>"
      ]
     },
     "metadata": {
      "needs_background": "light"
     },
     "output_type": "display_data"
    }
   ],
   "source": [
    "fig, axes = plt.subplots(nrows=2, ncols=2)\n",
    "print(fig)\n",
    "print(type(axes)) # The axes are returned in a 2×2 NumPy array."
   ]
  },
  {
   "cell_type": "code",
   "execution_count": 14,
   "metadata": {},
   "outputs": [
    {
     "data": {
      "image/png": "[encoded data removed]",
      "text/plain": [
       "<Figure size 432x288 with 4 Axes>"
      ]
     },
     "metadata": {
      "needs_background": "light"
     },
     "output_type": "display_data"
    }
   ],
   "source": [
    "fig, axes = plt.subplots(nrows=2, ncols=2)\n",
    "\n",
    "ax_0, ax_1, ax_2, ax_3 = axes.flat # we can extract each axes object by using flat property.\n",
    "\n",
    "ax_0.hist(tweets[\"red\"])\n",
    "ax_0.set_title(\"red in backgrounds\") # Set a title for the axes.\n",
    "\n",
    "ax_1.hist(tweets[\"red\"][tweets[\"candidate\"]==\"trump\"].values)\n",
    "ax_1.set_title(\"red in Trump tweets\")\n",
    "\n",
    "ax_2.hist(tweets[\"blue\"])\n",
    "ax_2.set_title(\"blue in backgrounds\")\n",
    "\n",
    "ax_3.hist(tweets[\"blue\"][tweets[\"candidate\"]==\"trump\"].values)\n",
    "ax_3.set_title(\"blue in Trump tweeters\")\n",
    "\n",
    "plt.tight_layout() # to reduce padding in the graphs and fit all the elements.\n",
    "plt.show()"
   ]
  },
  {
   "cell_type": "markdown",
   "metadata": {},
   "source": [
    "### Removing common background colors\n",
    "\n",
    "three most common background colors will be removed.  "
   ]
  },
  {
   "cell_type": "code",
   "execution_count": 15,
   "metadata": {},
   "outputs": [
    {
     "data": {
      "text/plain": [
       "C0DEED    108977\n",
       "000000     31119\n",
       "F5F8FA     25597\n",
       "131516      7731\n",
       "1A1B1F      5059\n",
       "           ...  \n",
       "A5DECF         1\n",
       "131411         1\n",
       "780505         1\n",
       "40D0E0         1\n",
       "3D522B         1\n",
       "Name: user_bg_color, Length: 6970, dtype: int64"
      ]
     },
     "execution_count": 15,
     "metadata": {},
     "output_type": "execute_result"
    }
   ],
   "source": [
    "tweets[\"user_bg_color\"].value_counts()"
   ]
  },
  {
   "cell_type": "code",
   "execution_count": 16,
   "metadata": {},
   "outputs": [
    {
     "data": {
      "image/png": "[encoded data removed]",
      "text/plain": [
       "<Figure size 432x288 with 4 Axes>"
      ]
     },
     "metadata": {
      "needs_background": "light"
     },
     "output_type": "display_data"
    }
   ],
   "source": [
    "tweets_selected = tweets[~tweets[\"user_bg_color\"].isin([\"C0DEED\",\"000000\", \"F5F8FA\"])]\n",
    "\n",
    "def create_plot(data):\n",
    "    \n",
    "    fig, axes = plt.subplots(nrows=2, ncols=2)\n",
    "\n",
    "    ax_0, ax_1, ax_2, ax_3 = axes.flat # we can extract each axes object by using flat property.\n",
    "\n",
    "    ax_0.hist(data[\"red\"])\n",
    "    ax_0.set_title(\"red in backgrounds\") # Set a title for the axes.\n",
    "\n",
    "    ax_1.hist(data[\"red\"][tweets[\"candidate\"]==\"trump\"].values)\n",
    "    ax_1.set_title(\"red in Trump tweets\")\n",
    "\n",
    "    ax_2.hist(data[\"blue\"])\n",
    "    ax_2.set_title(\"blue in backgrounds\")\n",
    "\n",
    "    ax_3.hist(data[\"blue\"][tweets[\"candidate\"]==\"trump\"].values)\n",
    "    ax_3.set_title(\"blue in Trump tweeters\")\n",
    "\n",
    "    plt.tight_layout() # to reduce padding in the graphs and fit all the elements.\n",
    "    plt.show()\n",
    "                         \n",
    "create_plot(tweets_selected)"
   ]
  },
  {
   "cell_type": "markdown",
   "metadata": {},
   "source": [
    "We can say that the distribution of blue and red in background colors for users that tweeted about Trump is almost identical to the distribution for all tweeters."
   ]
  },
  {
   "cell_type": "markdown",
   "metadata": {},
   "source": [
    "### Group the tweets by candidate, plot the Mean and Standard Deviation of a column, resize the figure\n",
    "\n",
    "We will group the tweets by candidate, plot the Mean and Standard Deviation of polarity column which shows sentiment scores of each tweet and increase the size of the figure."
   ]
  },
  {
   "cell_type": "code",
   "execution_count": 24,
   "metadata": {},
   "outputs": [
    {
     "data": {
      "image/png": "[encoded data removed]",
      "text/plain": [
       "<Figure size 576x576 with 2 Axes>"
      ]
     },
     "metadata": {
      "needs_background": "light"
     },
     "output_type": "display_data"
    }
   ],
   "source": [
    "tweets_gr = tweets.groupby(\"candidate\").agg([np.mean, np.std])\n",
    "\n",
    "fig, axes = plt.subplots(nrows=2, ncols=1, figsize=(8,8))\n",
    "ax_0, ax_1 = axes.flat\n",
    "\n",
    "std = tweets_gr[\"polarity\"][\"std\"].iloc[1:] #get rid of the first row which has empty index\n",
    "mean = tweets_gr[\"polarity\"][\"mean\"].iloc[1:] #get rid of the first row which has empty index\n",
    "\n",
    "ax_0.bar(range(len(std)), std) \n",
    "ax_0.set_xticks(range(len(std))) # may not show first x- label if not written \n",
    "ax_0.set_xticklabels(std.index, rotation = 45) # put the x -labels and rotate them\n",
    "ax_0.set_title(\"Standard deviation of tweet sentiment\")\n",
    "\n",
    "ax_1.bar(range(len(mean)), mean)\n",
    "ax_1.set_xticks(range(len(mean)))\n",
    "ax_1.set_xticklabels(std.index, rotation=45)\n",
    "ax_1.set_title(\"Mean tweet sentiment\")\n",
    "\n",
    "plt.tight_layout() \n",
    "plt.show()"
   ]
  },
  {
   "cell_type": "markdown",
   "metadata": {},
   "source": [
    "### Side by side bar plot\n",
    "\n",
    "We’ll categorize the tweets as short, medium, and long tweets. Then, we’ll count up how many tweets mentioning each candidate fall into each category. Then, we’ll generate a bar plot with bars for each candidate side by side."
   ]
  },
  {
   "cell_type": "code",
   "execution_count": 35,
   "metadata": {},
   "outputs": [],
   "source": [
    "def tweet_length(text):\n",
    "    if len(text) <100:\n",
    "        return \"short\"\n",
    "    elif 100<=len(text) <= 135:\n",
    "        return \"medium\"\n",
    "    else:\n",
    "        return \"long\"\n",
    "    \n",
    "tweets[\"tweet_length\"] = tweets[\"text\"].apply(tweet_length)\n",
    "\n",
    "tl= {}\n",
    "# tlr={}\n",
    "\n",
    "for candidate in [\"clinton\",\"sanders\",\"trump\"]:\n",
    "    tl[candidate] = tweets[\"tweet_length\"][tweets[\"candidate\"]== candidate].value_counts()\n",
    "    # tlr[candidate] = tweets.loc[tweets[\"candidate\"].str.contains(candidate), \"tweet_length\"].value_counts()  # This can also be used."
   ]
  },
  {
   "cell_type": "code",
   "execution_count": 48,
   "metadata": {},
   "outputs": [
    {
     "name": "stderr",
     "output_type": "stream",
     "text": [
      "No handles with labels found to put in legend.\n"
     ]
    },
    {
     "data": {
      "text/plain": [
       "<function matplotlib.pyplot.show(*args, **kw)>"
      ]
     },
     "execution_count": 48,
     "metadata": {},
     "output_type": "execute_result"
    },
    {
     "data": {
      "image/png": "[encoded data removed]",
      "text/plain": [
       "<Figure size 432x288 with 1 Axes>"
      ]
     },
     "metadata": {
      "needs_background": "light"
     },
     "output_type": "display_data"
    }
   ],
   "source": [
    "fig, ax = plt.subplots()\n",
    "width = 0.5  # width for each bar\n",
    "\n",
    "x = np.array(range(0,6,2))\n",
    "\n",
    "ax.bar(x, tl[\"clinton\"], width, color='g')\n",
    "ax.bar(x+width, tl[\"sanders\"], width, color='b')\n",
    "ax.bar(x+(width*2), tl[\"trump\"], width, color='r')\n",
    "\n",
    "ax.set_ylabel(\"# of tweets\")\n",
    "ax.set_xlabel(\"tweet length\")\n",
    "ax.set_title(\"number of tweets per candidate by length\")\n",
    "ax.set_xticks(x+width)  # to move the tick labels to the center of each category area.\n",
    "ax.set_xticklabels((\"long\",\"mdeium\",\"short\"))\n",
    "\n",
    "plt.show"
   ]
  },
  {
   "cell_type": "code",
   "execution_count": null,
   "metadata": {},
   "outputs": [],
   "source": []
  }
 ],
 "metadata": {
  "kernelspec": {
   "display_name": "Python 3",
   "language": "python",
   "name": "python3"
  },
  "language_info": {
   "codemirror_mode": {
    "name": "ipython",
    "version": 3
   },
   "file_extension": ".py",
   "mimetype": "text/x-python",
   "name": "python",
   "nbconvert_exporter": "python",
   "pygments_lexer": "ipython3",
   "version": "3.7.6"
  }
 },
 "nbformat": 4,
 "nbformat_minor": 4
}
