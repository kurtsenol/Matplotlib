{
 "cells": [
  {
   "cell_type": "markdown",
   "metadata": {},
   "source": [
    "## Scatter Plots"
   ]
  },
  {
   "cell_type": "markdown",
   "metadata": {},
   "source": [
    "We can use Scatter Plots when we want to show relationship between two sets of values and explore whether they are correlated.\n",
    "\n",
    "In this exercise we will work on a dataset that stores developers salaries by age. We will plot it out the ages and salaries of developers and explore if a correlation exists betwwen the two attributes."
   ]
  },
  {
   "cell_type": "code",
   "execution_count": 1,
   "metadata": {},
   "outputs": [
    {
     "data": {
      "text/html": [
       "<div>\n",
       "<style scoped>\n",
       "    .dataframe tbody tr th:only-of-type {\n",
       "        vertical-align: middle;\n",
       "    }\n",
       "\n",
       "    .dataframe tbody tr th {\n",
       "        vertical-align: top;\n",
       "    }\n",
       "\n",
       "    .dataframe thead th {\n",
       "        text-align: right;\n",
       "    }\n",
       "</style>\n",
       "<table border=\"1\" class=\"dataframe\">\n",
       "  <thead>\n",
       "    <tr style=\"text-align: right;\">\n",
       "      <th></th>\n",
       "      <th>Age</th>\n",
       "      <th>All_Devs</th>\n",
       "      <th>Python</th>\n",
       "      <th>JavaScript</th>\n",
       "    </tr>\n",
       "  </thead>\n",
       "  <tbody>\n",
       "    <tr>\n",
       "      <th>0</th>\n",
       "      <td>18</td>\n",
       "      <td>17784</td>\n",
       "      <td>20046</td>\n",
       "      <td>16446</td>\n",
       "    </tr>\n",
       "    <tr>\n",
       "      <th>1</th>\n",
       "      <td>19</td>\n",
       "      <td>16500</td>\n",
       "      <td>17100</td>\n",
       "      <td>16791</td>\n",
       "    </tr>\n",
       "    <tr>\n",
       "      <th>2</th>\n",
       "      <td>20</td>\n",
       "      <td>18012</td>\n",
       "      <td>20000</td>\n",
       "      <td>18942</td>\n",
       "    </tr>\n",
       "    <tr>\n",
       "      <th>3</th>\n",
       "      <td>21</td>\n",
       "      <td>20628</td>\n",
       "      <td>24744</td>\n",
       "      <td>21780</td>\n",
       "    </tr>\n",
       "    <tr>\n",
       "      <th>4</th>\n",
       "      <td>22</td>\n",
       "      <td>25206</td>\n",
       "      <td>30500</td>\n",
       "      <td>25704</td>\n",
       "    </tr>\n",
       "  </tbody>\n",
       "</table>\n",
       "</div>"
      ],
      "text/plain": [
       "   Age  All_Devs  Python  JavaScript\n",
       "0   18     17784   20046       16446\n",
       "1   19     16500   17100       16791\n",
       "2   20     18012   20000       18942\n",
       "3   21     20628   24744       21780\n",
       "4   22     25206   30500       25704"
      ]
     },
     "execution_count": 1,
     "metadata": {},
     "output_type": "execute_result"
    }
   ],
   "source": [
    "import matplotlib.pyplot as plt\n",
    "import pandas as pd\n",
    "\n",
    "devs = pd.read_csv(\"Data/dev_salaries.csv\")\n",
    "devs.head()"
   ]
  },
  {
   "cell_type": "code",
   "execution_count": 2,
   "metadata": {},
   "outputs": [
    {
     "data": {
      "image/png": "[encoded data removed]",
      "text/plain": [
       "<Figure size 432x288 with 1 Axes>"
      ]
     },
     "metadata": {
      "needs_background": "light"
     },
     "output_type": "display_data"
    }
   ],
   "source": [
    "ages = devs[\"Age\"]\n",
    "salaries = devs[\"All_Devs\"]\n",
    "plt.scatter(ages, salaries)\n",
    "plt.show()"
   ]
  },
  {
   "cell_type": "markdown",
   "metadata": {},
   "source": [
    "* We can see that there exists a positive relationship between the age and salary of the developers in the current sample."
   ]
  },
  {
   "cell_type": "markdown",
   "metadata": {},
   "source": [
    "* We can change the size of the dots, br passing in \"s=10\" argument in `plt.scatter()` method."
   ]
  },
  {
   "cell_type": "code",
   "execution_count": 8,
   "metadata": {},
   "outputs": [
    {
     "data": {
      "image/png": "[encoded data removed]",
      "text/plain": [
       "<Figure size 432x288 with 1 Axes>"
      ]
     },
     "metadata": {
      "needs_background": "light"
     },
     "output_type": "display_data"
    }
   ],
   "source": [
    "plt.scatter(ages, salaries, s=50)\n",
    "plt.show()"
   ]
  },
  {
   "cell_type": "markdown",
   "metadata": {},
   "source": [
    "* We can change the color of the marks depending on a variable.\n",
    "* Let's add a cloumn that shows years of experiences of developers.\n",
    "* Then change the color of markers (dots) depending on their experience. For this we use colormaps. \"cmap\" stands for colormap and it’s a colormap instance or registered colormap name (cmap will only work if c is an array of floats). You can find additional info about colormaps from [this page](https://medium.com/better-programming/how-to-use-colormaps-with-matplotlib-to-create-colorful-plots-in-python-969b5a892f0c).\n",
    "* We also need to add a color bar to the plot to make it easy to understand.  "
   ]
  },
  {
   "cell_type": "code",
   "execution_count": 4,
   "metadata": {},
   "outputs": [
    {
     "data": {
      "text/html": [
       "<div>\n",
       "<style scoped>\n",
       "    .dataframe tbody tr th:only-of-type {\n",
       "        vertical-align: middle;\n",
       "    }\n",
       "\n",
       "    .dataframe tbody tr th {\n",
       "        vertical-align: top;\n",
       "    }\n",
       "\n",
       "    .dataframe thead th {\n",
       "        text-align: right;\n",
       "    }\n",
       "</style>\n",
       "<table border=\"1\" class=\"dataframe\">\n",
       "  <thead>\n",
       "    <tr style=\"text-align: right;\">\n",
       "      <th></th>\n",
       "      <th>Age</th>\n",
       "      <th>All_Devs</th>\n",
       "      <th>Python</th>\n",
       "      <th>JavaScript</th>\n",
       "      <th>years_of_experience</th>\n",
       "    </tr>\n",
       "  </thead>\n",
       "  <tbody>\n",
       "    <tr>\n",
       "      <th>0</th>\n",
       "      <td>18</td>\n",
       "      <td>17784</td>\n",
       "      <td>20046</td>\n",
       "      <td>16446</td>\n",
       "      <td>0</td>\n",
       "    </tr>\n",
       "    <tr>\n",
       "      <th>1</th>\n",
       "      <td>19</td>\n",
       "      <td>16500</td>\n",
       "      <td>17100</td>\n",
       "      <td>16791</td>\n",
       "      <td>7</td>\n",
       "    </tr>\n",
       "    <tr>\n",
       "      <th>2</th>\n",
       "      <td>20</td>\n",
       "      <td>18012</td>\n",
       "      <td>20000</td>\n",
       "      <td>18942</td>\n",
       "      <td>7</td>\n",
       "    </tr>\n",
       "    <tr>\n",
       "      <th>3</th>\n",
       "      <td>21</td>\n",
       "      <td>20628</td>\n",
       "      <td>24744</td>\n",
       "      <td>21780</td>\n",
       "      <td>3</td>\n",
       "    </tr>\n",
       "    <tr>\n",
       "      <th>4</th>\n",
       "      <td>22</td>\n",
       "      <td>25206</td>\n",
       "      <td>30500</td>\n",
       "      <td>25704</td>\n",
       "      <td>4</td>\n",
       "    </tr>\n",
       "  </tbody>\n",
       "</table>\n",
       "</div>"
      ],
      "text/plain": [
       "   Age  All_Devs  Python  JavaScript  years_of_experience\n",
       "0   18     17784   20046       16446                    0\n",
       "1   19     16500   17100       16791                    7\n",
       "2   20     18012   20000       18942                    7\n",
       "3   21     20628   24744       21780                    3\n",
       "4   22     25206   30500       25704                    4"
      ]
     },
     "execution_count": 4,
     "metadata": {},
     "output_type": "execute_result"
    }
   ],
   "source": [
    "# add a column that shows years of experience of developers.\n",
    "# the values will be upto 10 and get by using numpy random method.     \n",
    "\n",
    "import numpy as np\n",
    "\n",
    "devs[\"years_of_experience\"] = np.random.randint(11, size=len(devs))\n",
    "devs.head()"
   ]
  },
  {
   "cell_type": "code",
   "execution_count": 9,
   "metadata": {},
   "outputs": [
    {
     "data": {
      "image/png": "[encoded data removed]",
      "text/plain": [
       "<Figure size 432x288 with 2 Axes>"
      ]
     },
     "metadata": {
      "needs_background": "light"
     },
     "output_type": "display_data"
    }
   ],
   "source": [
    "expertise = devs[\"years_of_experience\"]\n",
    "\n",
    "# assign list of expertise to color and use \"Greens\" colormap \n",
    "plt.scatter(ages, salaries, c=expertise, cmap=\"Greens\",\n",
    "            edgecolor = \"grey\", linewidth=1, alpha=0.8)\n",
    "\n",
    "# add a colorbar\n",
    "cbar = plt.colorbar()\n",
    "\n",
    "# add a label for colorbar\n",
    "cbar.set_label(\"Years of Experince\")\n",
    "\n",
    "plt.show()"
   ]
  },
  {
   "cell_type": "markdown",
   "metadata": {},
   "source": [
    "* We can also assign years of experiences of developers to the size of markers."
   ]
  },
  {
   "cell_type": "code",
   "execution_count": 12,
   "metadata": {},
   "outputs": [
    {
     "data": {
      "image/png": "[encoded data removed]",
      "text/plain": [
       "<Figure size 432x288 with 2 Axes>"
      ]
     },
     "metadata": {
      "needs_background": "light"
     },
     "output_type": "display_data"
    }
   ],
   "source": [
    "# assign list of expertise to size\n",
    "plt.scatter(ages, salaries, c=expertise, cmap=\"Greens\",\n",
    "            s= expertise*5, # multiply by 5 to make them more visible\n",
    "            edgecolor = \"grey\", linewidth=1, alpha=0.8)\n",
    "\n",
    "# add a colorbar\n",
    "cbar = plt.colorbar()\n",
    "\n",
    "# add a label for colorbar\n",
    "cbar.set_label(\"Years of Experince\")\n",
    "\n",
    "plt.show()"
   ]
  },
  {
   "cell_type": "code",
   "execution_count": null,
   "metadata": {},
   "outputs": [],
   "source": []
  },
  {
   "cell_type": "markdown",
   "metadata": {},
   "source": [
    "Source:\n",
    "* [Corey Schafer - Matplotlib Tutorial](https://www.youtube.com/watch?v=UO98lJQ3QGI&list=PL-osiE80TeTvipOqomVEeZ1HRrcEvtZB_)\n",
    "* [Matplotlib documentation](https://matplotlib.org/contents.html)\n",
    "* [Medium.com - How to Use Colormaps with Matplotlib to Create Colorful Plots in Python](https://medium.com/better-programming/how-to-use-colormaps-with-matplotlib-to-create-colorful-plots-in-python-969b5a892f0c)"
   ]
  }
 ],
 "metadata": {
  "kernelspec": {
   "display_name": "Python 3",
   "language": "python",
   "name": "python3"
  },
  "language_info": {
   "codemirror_mode": {
    "name": "ipython",
    "version": 3
   },
   "file_extension": ".py",
   "mimetype": "text/x-python",
   "name": "python",
   "nbconvert_exporter": "python",
   "pygments_lexer": "ipython3",
   "version": "3.7.6"
  }
 },
 "nbformat": 4,
 "nbformat_minor": 4
}
