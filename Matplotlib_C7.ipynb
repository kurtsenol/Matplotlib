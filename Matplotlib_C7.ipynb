{
 "cells": [
  {
   "cell_type": "markdown",
   "metadata": {},
   "source": [
    "## Plotting Time Series Data"
   ]
  },
  {
   "cell_type": "markdown",
   "metadata": {},
   "source": [
    "In this exercise we will work on a dataset that stores bitcoin prices over a couple of weeks. \n",
    "* We use `plt.plot._date()` method to plot dates. On the x-axis there will be dates, on the y-axis there will be closing prices.\n",
    "* We use \"linestyle\" argument to connect markers and form a line.\n",
    "* `plt.gcf().autofmt_xdate()` is a chain of methods for get current figure and auto formating dates on x-axis.  \n",
    "\n"
   ]
  },
  {
   "cell_type": "code",
   "execution_count": 17,
   "metadata": {},
   "outputs": [
    {
     "data": {
      "text/html": [
       "<div>\n",
       "<style scoped>\n",
       "    .dataframe tbody tr th:only-of-type {\n",
       "        vertical-align: middle;\n",
       "    }\n",
       "\n",
       "    .dataframe tbody tr th {\n",
       "        vertical-align: top;\n",
       "    }\n",
       "\n",
       "    .dataframe thead th {\n",
       "        text-align: right;\n",
       "    }\n",
       "</style>\n",
       "<table border=\"1\" class=\"dataframe\">\n",
       "  <thead>\n",
       "    <tr style=\"text-align: right;\">\n",
       "      <th></th>\n",
       "      <th>Date</th>\n",
       "      <th>Open</th>\n",
       "      <th>High</th>\n",
       "      <th>Low</th>\n",
       "      <th>Close</th>\n",
       "      <th>Adj Close</th>\n",
       "      <th>Volume</th>\n",
       "    </tr>\n",
       "  </thead>\n",
       "  <tbody>\n",
       "    <tr>\n",
       "      <th>0</th>\n",
       "      <td>2019-05-18</td>\n",
       "      <td>7266.080078</td>\n",
       "      <td>8281.660156</td>\n",
       "      <td>7257.259766</td>\n",
       "      <td>8193.139648</td>\n",
       "      <td>8193.139648</td>\n",
       "      <td>723011166</td>\n",
       "    </tr>\n",
       "    <tr>\n",
       "      <th>1</th>\n",
       "      <td>2019-05-19</td>\n",
       "      <td>8193.139648</td>\n",
       "      <td>8193.139648</td>\n",
       "      <td>7591.850098</td>\n",
       "      <td>7998.290039</td>\n",
       "      <td>7998.290039</td>\n",
       "      <td>637617163</td>\n",
       "    </tr>\n",
       "    <tr>\n",
       "      <th>2</th>\n",
       "      <td>2019-05-20</td>\n",
       "      <td>7998.290039</td>\n",
       "      <td>8102.319824</td>\n",
       "      <td>7807.770020</td>\n",
       "      <td>7947.930176</td>\n",
       "      <td>7947.930176</td>\n",
       "      <td>357803946</td>\n",
       "    </tr>\n",
       "    <tr>\n",
       "      <th>3</th>\n",
       "      <td>2019-05-21</td>\n",
       "      <td>7947.930176</td>\n",
       "      <td>8033.759766</td>\n",
       "      <td>7533.660156</td>\n",
       "      <td>7626.890137</td>\n",
       "      <td>7626.890137</td>\n",
       "      <td>424501866</td>\n",
       "    </tr>\n",
       "    <tr>\n",
       "      <th>4</th>\n",
       "      <td>2019-05-22</td>\n",
       "      <td>7626.890137</td>\n",
       "      <td>7971.259766</td>\n",
       "      <td>7478.740234</td>\n",
       "      <td>7876.500000</td>\n",
       "      <td>7876.500000</td>\n",
       "      <td>386766321</td>\n",
       "    </tr>\n",
       "  </tbody>\n",
       "</table>\n",
       "</div>"
      ],
      "text/plain": [
       "         Date         Open         High          Low        Close  \\\n",
       "0  2019-05-18  7266.080078  8281.660156  7257.259766  8193.139648   \n",
       "1  2019-05-19  8193.139648  8193.139648  7591.850098  7998.290039   \n",
       "2  2019-05-20  7998.290039  8102.319824  7807.770020  7947.930176   \n",
       "3  2019-05-21  7947.930176  8033.759766  7533.660156  7626.890137   \n",
       "4  2019-05-22  7626.890137  7971.259766  7478.740234  7876.500000   \n",
       "\n",
       "     Adj Close     Volume  \n",
       "0  8193.139648  723011166  \n",
       "1  7998.290039  637617163  \n",
       "2  7947.930176  357803946  \n",
       "3  7626.890137  424501866  \n",
       "4  7876.500000  386766321  "
      ]
     },
     "execution_count": 17,
     "metadata": {},
     "output_type": "execute_result"
    }
   ],
   "source": [
    "import matplotlib.pyplot as plt\n",
    "import pandas as pd\n",
    "import matplotlib.dates as mpl_dates\n",
    "\n",
    "\n",
    "bitcoin = pd.read_csv(\"Data/bitcoin.csv\")\n",
    "bitcoin.head()"
   ]
  },
  {
   "cell_type": "code",
   "execution_count": 18,
   "metadata": {},
   "outputs": [
    {
     "name": "stdout",
     "output_type": "stream",
     "text": [
      "<class 'pandas.core.frame.DataFrame'>\n",
      "RangeIndex: 14 entries, 0 to 13\n",
      "Data columns (total 7 columns):\n",
      "Date         14 non-null object\n",
      "Open         14 non-null float64\n",
      "High         14 non-null float64\n",
      "Low          14 non-null float64\n",
      "Close        14 non-null float64\n",
      "Adj Close    14 non-null float64\n",
      "Volume       14 non-null int64\n",
      "dtypes: float64(5), int64(1), object(1)\n",
      "memory usage: 912.0+ bytes\n"
     ]
    }
   ],
   "source": [
    "bitcoin.info()"
   ]
  },
  {
   "cell_type": "markdown",
   "metadata": {},
   "source": [
    "* It's important to check the type of the \"Date\" values in the dataset. As you see above the type of the \"Date\" column is object, which is actually string. So we need to change it to \"Datetime\" and then sort the values. We don't want to plot unsorted Date values."
   ]
  },
  {
   "cell_type": "code",
   "execution_count": 19,
   "metadata": {},
   "outputs": [
    {
     "name": "stdout",
     "output_type": "stream",
     "text": [
      "<class 'pandas.core.frame.DataFrame'>\n",
      "Int64Index: 14 entries, 0 to 13\n",
      "Data columns (total 7 columns):\n",
      "Date         14 non-null datetime64[ns]\n",
      "Open         14 non-null float64\n",
      "High         14 non-null float64\n",
      "Low          14 non-null float64\n",
      "Close        14 non-null float64\n",
      "Adj Close    14 non-null float64\n",
      "Volume       14 non-null int64\n",
      "dtypes: datetime64[ns](1), float64(5), int64(1)\n",
      "memory usage: 896.0 bytes\n"
     ]
    }
   ],
   "source": [
    "bitcoin[\"Date\"] = pd.to_datetime(bitcoin[\"Date\"])\n",
    "bitcoin.sort_values(\"Date\", inplace =True)\n",
    "bitcoin.info()"
   ]
  },
  {
   "cell_type": "markdown",
   "metadata": {},
   "source": [
    "* Now, we can see that the type of \"Date\" column is datetime."
   ]
  },
  {
   "cell_type": "code",
   "execution_count": 20,
   "metadata": {},
   "outputs": [
    {
     "data": {
      "image/png": "[encoded data removed]",
      "text/plain": [
       "<Figure size 432x288 with 1 Axes>"
      ]
     },
     "metadata": {
      "needs_background": "light"
     },
     "output_type": "display_data"
    }
   ],
   "source": [
    "price_date = bitcoin[\"Date\"]\n",
    "price_close = bitcoin[\"Close\"]\n",
    "\n",
    " \n",
    "plt.plot_date(price_date, price_close, linestyle=\"solid\")\n",
    "\n",
    "plt.gcf().autofmt_xdate()\n",
    "\n",
    "plt.title(\"Bitcoin Prices\")\n",
    "plt.xlabel(\"Date\")\n",
    "plt.ylabel(\"Closing Price\")\n",
    "\n",
    "plt.tight_layout()\n",
    "plt.show()"
   ]
  },
  {
   "cell_type": "markdown",
   "metadata": {},
   "source": [
    "We can form a Date format by using `DateFormatter()` method from matplotlib.dates module that we have imported above. You can find more info about date formats from [python documentation](https://docs.python.org/3/library/datetime.html#strftime-and-strptime-behavior). \n",
    "\n",
    "Then we use `plt.gca().xaxis.set_major_formatter()` chain of methods for getting current axes and setting format for xaxis by passing in format variable we have formed. "
   ]
  },
  {
   "cell_type": "code",
   "execution_count": 21,
   "metadata": {},
   "outputs": [
    {
     "data": {
      "image/png": "[encoded data removed]",
      "text/plain": [
       "<Figure size 432x288 with 1 Axes>"
      ]
     },
     "metadata": {
      "needs_background": "light"
     },
     "output_type": "display_data"
    }
   ],
   "source": [
    "plt.plot_date(price_date, price_close, linestyle=\"solid\")\n",
    "\n",
    "plt.gcf().autofmt_xdate()\n",
    "\n",
    "date_format = mpl_dates.DateFormatter(\"%b, %d, %Y\")\n",
    "plt.gca().xaxis.set_major_formatter(date_format)\n",
    "\n",
    "\n",
    "plt.title(\"Bitcoin Prices\")\n",
    "plt.xlabel(\"Date\")\n",
    "plt.ylabel(\"Closing Price\")\n",
    "\n",
    "plt.tight_layout()\n",
    "plt.show()"
   ]
  },
  {
   "cell_type": "code",
   "execution_count": null,
   "metadata": {},
   "outputs": [],
   "source": []
  },
  {
   "cell_type": "markdown",
   "metadata": {},
   "source": [
    "Source:\n",
    "* [Corey Schafer - Matplotlib Tutorial](https://www.youtube.com/watch?v=UO98lJQ3QGI&list=PL-osiE80TeTvipOqomVEeZ1HRrcEvtZB_)\n",
    "* [python documentation](https://docs.python.org/3/library/datetime.html#strftime-and-strptime-behavior)"
   ]
  }
 ],
 "metadata": {
  "kernelspec": {
   "display_name": "Python 3",
   "language": "python",
   "name": "python3"
  },
  "language_info": {
   "codemirror_mode": {
    "name": "ipython",
    "version": 3
   },
   "file_extension": ".py",
   "mimetype": "text/x-python",
   "name": "python",
   "nbconvert_exporter": "python",
   "pygments_lexer": "ipython3",
   "version": "3.7.6"
  }
 },
 "nbformat": 4,
 "nbformat_minor": 4
}
