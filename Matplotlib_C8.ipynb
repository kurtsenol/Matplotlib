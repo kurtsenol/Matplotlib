{
 "cells": [
  {
   "cell_type": "markdown",
   "metadata": {},
   "source": [
    "## Plotting Live Data in Real-Time"
   ]
  },
  {
   "cell_type": "markdown",
   "metadata": {},
   "source": [
    "In this exercise we will plot live data in real-time using Matplotlib. We will monitor a CSV file that is continously being updated, and plot the values from that CSV file accordingly. \n",
    "\n",
    "\"FuncAnimation\" class from matplotlib animation module will run our \"animate\" function which appends values to our \"x_values\" and \"y_values\" lists, in every second.  \n",
    "\n",
    "We need to pass in the arguments below for \"FuncAnimation\":\n",
    "* `plt.gcf()` : method that gets current figure\n",
    "* `animate` : the function we want to run. \n",
    "* interval: how often we want to run the function in miliseconds.\n",
    "\n",
    "For continous plotting to the screen we use interactive backends which is capable of displaying to the screen and of using appropriate renderers to write to a file. We can activate related backend in IPython with `%matplotlib`. This should be done before importing `matplotlib.pyplot`!!. You can find additional info about \"backend\" in [matplotlib user's guide](https://matplotlib.org/tutorials/introductory/usage.html)."
   ]
  },
  {
   "cell_type": "code",
   "execution_count": 11,
   "metadata": {},
   "outputs": [
    {
     "name": "stdout",
     "output_type": "stream",
     "text": [
      "Using matplotlib backend: Qt5Agg\n"
     ]
    }
   ],
   "source": [
    "# activate backend\n",
    "%matplotlib\n",
    "\n",
    "import matplotlib.pyplot as plt\n",
    "import pandas as pd\n",
    "from itertools import count\n",
    "import random\n",
    "from matplotlib.animation import FuncAnimation\n",
    "\n",
    "x_values=[]\n",
    "y_values = []\n",
    "\n",
    "index = count()\n",
    "\n",
    "# As you can see below animate function takes a parameter \"i\". \n",
    "# It is not used in the function.\n",
    "# That is the interval. It’s something that is automatically passed in by the library.\n",
    "  \n",
    "\n",
    "def animate(i):\n",
    "    x_values.append(next(index))\n",
    "    y_values.append(random.randint(0,5))\n",
    "    \n",
    "    plt.plot(x_values, y_values)\n",
    "    \n",
    "    \n",
    "    \n",
    "ani = FuncAnimation(plt.gcf(), animate, interval=1000)\n",
    "    \n",
    "plt.tight_layout()\n",
    "plt.show()"
   ]
  },
  {
   "cell_type": "markdown",
   "metadata": {},
   "source": [
    "* As you can see in the plot, it updates in every second as defined in the \"FuncAnimation\".\n",
    "However, it plots a new line in each time without removing the previous one. Thefore we should clear the plot with `plt.cla()` method in the \"animate\" function before ploting a new line. "
   ]
  },
  {
   "cell_type": "code",
   "execution_count": 12,
   "metadata": {},
   "outputs": [],
   "source": [
    "def animate(i):\n",
    "    x_values.append(next(index))\n",
    "    y_values.append(random.randint(0,5))\n",
    "    \n",
    "    plt.cla()\n",
    "    \n",
    "    plt.plot(x_values, y_values)\n",
    "    \n",
    "ani = FuncAnimation(plt.gcf(), animate, interval=1000)\n",
    "    \n",
    "plt.tight_layout()\n",
    "plt.show()"
   ]
  },
  {
   "cell_type": "markdown",
   "metadata": {},
   "source": [
    "* Now, let's look for plotting data from an outsource (e.g, a csv file) that is being continously updated. \n",
    "* We have a python file (\"data_gen.py\") that opens a csv file (\"live_data.csv\") and updates it in every seond by appending x_value, total_1 and total_2 values."
   ]
  },
  {
   "cell_type": "code",
   "execution_count": 15,
   "metadata": {},
   "outputs": [],
   "source": [
    "def animate(i):\n",
    "    data = pd.read_csv(\"Data/live_data.csv\")\n",
    "    x = data[\"x_value\"]\n",
    "    y1 = data[\"total_1\"]\n",
    "    y2 = data[\"total_2\"]\n",
    "    \n",
    "    plt.cla()\n",
    "    \n",
    "    plt.plot(x, y1, label = \"Line 1\")\n",
    "    plt.plot(x, y2, label = \"Line 2\")\n",
    "    \n",
    "    plt.legend(loc=\"upper left\")\n",
    "    \n",
    "    plt.tight_layout()\n",
    "\n",
    "    \n",
    "ani = FuncAnimation(plt.gcf(), animate, interval=1000)\n",
    "    \n",
    "plt.show()"
   ]
  },
  {
   "cell_type": "code",
   "execution_count": 16,
   "metadata": {},
   "outputs": [],
   "source": [
    "# Another way to do it without clearing the Axes\n",
    "\n",
    "x_vals = []\n",
    "y_vals = []\n",
    "\n",
    "plt.plot([], [], label='Line 1')\n",
    "plt.plot([], [], label='Line 2')\n",
    "\n",
    "\n",
    "def animate(i):\n",
    "    data = pd.read_csv('Data/live_data.csv')\n",
    "    x = data['x_value']\n",
    "    y1 = data['total_1']\n",
    "    y2 = data['total_2']\n",
    "\n",
    "    ax = plt.gca()\n",
    "    line1, line2 = ax.lines\n",
    "\n",
    "    line1.set_data(x, y1)\n",
    "    line2.set_data(x, y2)\n",
    "\n",
    "    xlim_low, xlim_high = ax.get_xlim()\n",
    "    ylim_low, ylim_high = ax.get_ylim()\n",
    "\n",
    "    ax.set_xlim(xlim_low, (x.max() + 5))\n",
    "\n",
    "    y1max = y1.max()\n",
    "    y2max = y2.max()\n",
    "    current_ymax = y1max if (y1max > y2max) else y2max\n",
    "\n",
    "    y1min = y1.min()\n",
    "    y2min = y2.min()\n",
    "    current_ymin = y1min if (y1min < y2min) else y2min\n",
    "\n",
    "    ax.set_ylim((current_ymin - 5), (current_ymax + 5))\n",
    "\n",
    "\n",
    "ani = FuncAnimation(plt.gcf(), animate, interval=1000)\n",
    "\n",
    "plt.legend()\n",
    "plt.tight_layout()\n",
    "plt.show()"
   ]
  },
  {
   "cell_type": "code",
   "execution_count": null,
   "metadata": {},
   "outputs": [],
   "source": []
  },
  {
   "cell_type": "markdown",
   "metadata": {},
   "source": [
    "Source:\n",
    "* [Corey Schafer - Matplotlib Tutorial](https://www.youtube.com/watch?v=UO98lJQ3QGI&list=PL-osiE80TeTvipOqomVEeZ1HRrcEvtZB_)\n",
    "* [matplotlib user's guide](https://matplotlib.org/tutorials/introductory/usage.html)"
   ]
  }
 ],
 "metadata": {
  "kernelspec": {
   "display_name": "Python 3",
   "language": "python",
   "name": "python3"
  },
  "language_info": {
   "codemirror_mode": {
    "name": "ipython",
    "version": 3
   },
   "file_extension": ".py",
   "mimetype": "text/x-python",
   "name": "python",
   "nbconvert_exporter": "python",
   "pygments_lexer": "ipython3",
   "version": "3.7.6"
  }
 },
 "nbformat": 4,
 "nbformat_minor": 4
}
